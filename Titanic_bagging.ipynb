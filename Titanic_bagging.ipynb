{
 "cells": [
  {
   "cell_type": "markdown",
   "metadata": {},
   "source": [
    "# Código Python"
   ]
  },
  {
   "cell_type": "code",
   "execution_count": 1,
   "metadata": {},
   "outputs": [],
   "source": [
    "import pandas as pd\n",
    "import numpy as np"
   ]
  },
  {
   "cell_type": "markdown",
   "metadata": {},
   "source": [
    "## Lendo o DataFrame"
   ]
  },
  {
   "cell_type": "code",
   "execution_count": 2,
   "metadata": {},
   "outputs": [],
   "source": [
    "df = pd.read_csv(\"titanic/titanic_train.csv\")"
   ]
  },
  {
   "cell_type": "markdown",
   "metadata": {},
   "source": [
    "## Mostrando informações"
   ]
  },
  {
   "cell_type": "code",
   "execution_count": 3,
   "metadata": {},
   "outputs": [
    {
     "name": "stdout",
     "output_type": "stream",
     "text": [
      "   Unnamed: 0  Unnamed: 0.1      class     age    sex survived\n",
      "0         191           192  1st class  adults  women      yes\n",
      "1         103           104  1st class  adults    man       no\n",
      "2        1280          1281  3rd class   child    man       no\n",
      "3          60            61  1st class  adults    man       no\n",
      "4        1034          1035  3rd class  adults    man       no\n",
      "<class 'pandas.core.frame.DataFrame'>\n",
      "RangeIndex: 987 entries, 0 to 986\n",
      "Data columns (total 6 columns):\n",
      "Unnamed: 0      987 non-null int64\n",
      "Unnamed: 0.1    987 non-null int64\n",
      "class           987 non-null object\n",
      "age             987 non-null object\n",
      "sex             987 non-null object\n",
      "survived        987 non-null object\n",
      "dtypes: int64(2), object(4)\n",
      "memory usage: 46.3+ KB\n",
      "None\n"
     ]
    }
   ],
   "source": [
    "print(df.head())\n",
    "print(df.info())"
   ]
  },
  {
   "cell_type": "markdown",
   "metadata": {},
   "source": [
    "## Separando X_train e y_train"
   ]
  },
  {
   "cell_type": "code",
   "execution_count": 4,
   "metadata": {},
   "outputs": [
    {
     "name": "stdout",
     "output_type": "stream",
     "text": [
      "X_train\n",
      "   Unnamed: 0.1      class     age    sex\n",
      "0           192  1st class  adults  women\n",
      "1           104  1st class  adults    man\n",
      "2          1281  3rd class   child    man\n",
      "3            61  1st class  adults    man\n",
      "4          1035  3rd class  adults    man\n",
      "Index(['Unnamed: 0.1', 'class_2nd class', 'class_3rd class', 'age_child',\n",
      "       'sex_women'],\n",
      "      dtype='object')\n",
      "   Unnamed: 0.1  class_2nd class  class_3rd class  age_child  sex_women\n",
      "0           192                0                0          0          1\n",
      "1           104                0                0          0          0\n",
      "2          1281                0                1          1          0\n",
      "3            61                0                0          0          0\n",
      "4          1035                0                1          0          0\n",
      "y_train\n",
      "   yes\n",
      "0    1\n",
      "1    0\n",
      "2    0\n",
      "3    0\n",
      "4    0\n"
     ]
    }
   ],
   "source": [
    "X_train = df.iloc[:,1:5]\n",
    "print(\"X_train\")\n",
    "print(X_train.head())\n",
    "\n",
    "# Create dummy variables with drop_first=True: df_region\n",
    "X_train = pd.get_dummies(X_train,drop_first=True)\n",
    "\n",
    "# Print the new columns of df_region\n",
    "print(X_train.columns)\n",
    "\n",
    "print(X_train.head())\n",
    "\n",
    "print(\"y_train\")\n",
    "y_train = df.iloc[:,-1]\n",
    "y_train = pd.get_dummies(y_train,drop_first=True)\n",
    "print(y_train.head())"
   ]
  },
  {
   "cell_type": "markdown",
   "metadata": {},
   "source": [
    "## Learning"
   ]
  },
  {
   "cell_type": "code",
   "execution_count": 7,
   "metadata": {},
   "outputs": [
    {
     "data": {
      "text/plain": [
       "BaggingClassifier(base_estimator=DecisionTreeClassifier(class_weight=None,\n",
       "                                                        criterion='gini',\n",
       "                                                        max_depth=7,\n",
       "                                                        max_features=None,\n",
       "                                                        max_leaf_nodes=None,\n",
       "                                                        min_impurity_decrease=0.0,\n",
       "                                                        min_impurity_split=None,\n",
       "                                                        min_samples_leaf=1,\n",
       "                                                        min_samples_split=2,\n",
       "                                                        min_weight_fraction_leaf=0.0,\n",
       "                                                        presort=False,\n",
       "                                                        random_state=0,\n",
       "                                                        splitter='best'),\n",
       "                  bootstrap=True, bootstrap_features=False, max_features=1.0,\n",
       "                  max_samples=1.0, n_estimators=45, n_jobs=None,\n",
       "                  oob_score=False, random_state=42, verbose=0,\n",
       "                  warm_start=False)"
      ]
     },
     "execution_count": 7,
     "metadata": {},
     "output_type": "execute_result"
    }
   ],
   "source": [
    "from sklearn.tree import DecisionTreeClassifier\n",
    "from sklearn.ensemble import BaggingClassifier \n",
    "\n",
    "clf = DecisionTreeClassifier(random_state=0,max_depth=7)\n",
    "\n",
    "bc = BaggingClassifier(base_estimator=clf, n_estimators=45, random_state=42)\n",
    "\n",
    "bc.fit(X_train,y_train.to_numpy().ravel())"
   ]
  },
  {
   "cell_type": "code",
   "execution_count": 8,
   "metadata": {},
   "outputs": [
    {
     "name": "stdout",
     "output_type": "stream",
     "text": [
      "1.0\n"
     ]
    }
   ],
   "source": [
    "from sklearn.metrics import accuracy_score\n",
    "predic = bc.predict(X_train)\n",
    "print(accuracy_score(predic,y_train))"
   ]
  },
  {
   "cell_type": "markdown",
   "metadata": {},
   "source": [
    "## Testing"
   ]
  },
  {
   "cell_type": "code",
   "execution_count": 9,
   "metadata": {},
   "outputs": [
    {
     "name": "stdout",
     "output_type": "stream",
     "text": [
      "Index(['Unnamed: 0.1', 'class_2nd class', 'class_3rd class', 'age_child',\n",
      "       'sex_women'],\n",
      "      dtype='object')\n",
      "Index(['Unnamed: 0.1', 'class_2nd class', 'class_3rd class', 'age_child',\n",
      "       'sex_women'],\n",
      "      dtype='object')\n",
      "['yes', 'no', 'no', 'no', 'no', 'no', 'yes', 'yes', 'no', 'yes', 'yes', 'yes', 'yes', 'yes', 'no', 'no', 'yes', 'no', 'no', 'yes', 'yes', 'yes', 'yes', 'no', 'no', 'yes', 'yes', 'no', 'no', 'no', 'yes', 'no', 'yes', 'yes', 'yes', 'no', 'yes', 'yes', 'no', 'yes', 'no', 'no', 'no', 'yes', 'no', 'no', 'no', 'no', 'no', 'no', 'no', 'no', 'yes', 'no', 'no', 'no', 'no', 'no', 'no', 'yes', 'no', 'no', 'no', 'yes', 'no', 'no', 'no', 'no', 'yes', 'no', 'no', 'no', 'no', 'yes', 'no', 'no', 'no', 'no', 'no', 'no', 'no', 'yes', 'no', 'no', 'yes', 'no', 'no', 'no', 'yes', 'yes', 'no', 'yes', 'no', 'no', 'yes', 'no', 'yes', 'no', 'no', 'no', 'yes', 'no', 'no', 'yes', 'no', 'no', 'no', 'no', 'no', 'yes', 'no', 'no', 'no', 'no', 'yes', 'yes', 'no', 'yes', 'no', 'yes', 'no', 'yes', 'no', 'no', 'no', 'yes', 'yes', 'no', 'no', 'no', 'no', 'no', 'yes', 'no', 'no', 'yes', 'yes', 'no', 'no', 'no', 'no', 'no', 'yes', 'yes', 'no', 'no', 'no', 'yes', 'no', 'no', 'no', 'no', 'yes', 'no', 'no', 'no', 'no', 'no', 'no', 'yes', 'yes', 'yes', 'yes', 'no', 'no', 'no', 'no', 'yes', 'yes', 'no', 'no', 'no', 'no', 'yes', 'yes', 'yes', 'no', 'no', 'yes', 'no', 'no', 'yes', 'no', 'yes', 'yes', 'no', 'no', 'yes', 'yes', 'no', 'no', 'yes', 'no', 'yes', 'no', 'yes', 'no', 'yes', 'yes', 'no', 'no', 'no', 'yes', 'no', 'no', 'no', 'yes', 'yes', 'no', 'no', 'yes', 'yes', 'yes', 'no', 'yes', 'yes', 'yes', 'no', 'yes', 'no', 'no', 'yes', 'no', 'yes', 'no', 'no', 'yes', 'no', 'no', 'no', 'no', 'yes', 'no', 'no', 'no', 'yes', 'yes', 'yes', 'no', 'yes', 'no', 'no', 'yes', 'no', 'yes', 'no', 'yes', 'yes', 'no', 'yes', 'yes', 'yes', 'yes', 'yes', 'yes', 'no', 'yes', 'yes', 'yes', 'no', 'no', 'no', 'yes', 'no', 'no', 'no', 'no', 'yes', 'yes', 'yes', 'no', 'yes', 'yes', 'no', 'no', 'no', 'yes', 'yes', 'yes', 'yes', 'no', 'no', 'yes', 'no', 'no', 'no', 'yes', 'no', 'no', 'no', 'yes', 'yes', 'no', 'no', 'no', 'yes', 'no', 'no', 'no', 'yes', 'yes', 'yes', 'yes', 'no', 'no', 'yes', 'yes', 'yes', 'no', 'no', 'no', 'no', 'no', 'no', 'no', 'no', 'yes', 'no', 'no', 'yes', 'no', 'no', 'yes', 'yes', 'no', 'yes', 'no', 'yes', 'yes']\n",
      "     Unnamed: 0  Unnamed: 0.1      class     age    sex survived\n",
      "0           634           635  3rd class  adults    man      yes\n",
      "1           959           960  3rd class  adults    man       no\n",
      "2           364           365  2nd class  adults    man       no\n",
      "3           948           949  3rd class  adults    man       no\n",
      "4           142           143  1st class  adults    man       no\n",
      "5          1058          1059  3rd class  adults    man       no\n",
      "6            45            46  1st class  adults    man      yes\n",
      "7          1130          1131  3rd class  adults  women      yes\n",
      "8           478           479  2nd class  adults    man       no\n",
      "9           590           591  2nd class   child    man      yes\n",
      "10          553           554  2nd class  adults  women      yes\n",
      "11           55            56  1st class  adults    man      yes\n",
      "12          241           242  1st class  adults  women      yes\n",
      "13         1145          1146  3rd class  adults  women      yes\n",
      "14          996           997  3rd class  adults    man       no\n",
      "15          108           109  1st class  adults    man       no\n",
      "16         1093          1094  3rd class  adults  women      yes\n",
      "17          442           443  2nd class  adults    man       no\n",
      "18          440           441  2nd class  adults    man       no\n",
      "19         1073          1074  3rd class  adults  women      yes\n",
      "20          682           683  3rd class  adults    man      yes\n",
      "21            5             6  1st class  adults    man      yes\n",
      "22         1083          1084  3rd class  adults  women      yes\n",
      "23          408           409  2nd class  adults    man       no\n",
      "24          349           350  2nd class  adults    man       no\n",
      "25         1243          1244  3rd class   child    man      yes\n",
      "26          184           185  1st class  adults  women      yes\n",
      "27          923           924  3rd class  adults    man       no\n",
      "28          487           488  2nd class  adults    man       no\n",
      "29         1023          1024  3rd class  adults    man       no\n",
      "..          ...           ...        ...     ...    ...      ...\n",
      "299         528           529  2nd class  adults  women      yes\n",
      "300        1090          1091  3rd class  adults  women      yes\n",
      "301         540           541  2nd class  adults  women      yes\n",
      "302         320           321  1st class   child    man      yes\n",
      "303         695           696  3rd class  adults    man       no\n",
      "304         472           473  2nd class  adults    man       no\n",
      "305         609           610  2nd class   child  women      yes\n",
      "306        1125          1126  3rd class  adults  women      yes\n",
      "307        1108          1109  3rd class  adults  women      yes\n",
      "308         436           437  2nd class  adults    man       no\n",
      "309        1259          1260  3rd class   child    man       no\n",
      "310         986           987  3rd class  adults    man       no\n",
      "311         731           732  3rd class  adults    man       no\n",
      "312         317           318  1st class  adults  women       no\n",
      "313        1164          1165  3rd class  adults  women       no\n",
      "314        1264          1265  3rd class   child    man       no\n",
      "315        1174          1175  3rd class  adults  women       no\n",
      "316         319           320  1st class   child    man      yes\n",
      "317        1305          1306  3rd class   child  women       no\n",
      "318         692           693  3rd class  adults    man       no\n",
      "319         567           568  2nd class  adults  women      yes\n",
      "320         998           999  3rd class  adults    man       no\n",
      "321         131           132  1st class  adults    man       no\n",
      "322          15            16  1st class  adults    man      yes\n",
      "323        1121          1122  3rd class  adults  women      yes\n",
      "324         452           453  2nd class  adults    man       no\n",
      "325         610           611  3rd class  adults    man      yes\n",
      "326         579           580  2nd class  adults  women       no\n",
      "327        1098          1099  3rd class  adults  women      yes\n",
      "328         187           188  1st class  adults  women      yes\n",
      "\n",
      "[329 rows x 6 columns]\n"
     ]
    }
   ],
   "source": [
    "df_test = pd.read_csv(\"titanic/titanic_test.csv\")\n",
    "X_test = df_test.iloc[:,1:5]\n",
    "X_test = pd.get_dummies(X_test,drop_first=True)\n",
    "\n",
    "print(X_train.columns)\n",
    "print(X_test.columns)\n",
    "\n",
    "X_test = bc.predict(X_test)\n",
    "\n",
    "labels = []\n",
    "\n",
    "for i in X_test:\n",
    "    if(i == 0):\n",
    "        labels.append(\"no\")\n",
    "    else:\n",
    "        labels.append(\"yes\")\n",
    "\n",
    "\n",
    "print(labels)\n",
    "\n",
    "df_test['survived'] = labels\n",
    "\n",
    "print(df_test)"
   ]
  },
  {
   "cell_type": "code",
   "execution_count": 24,
   "metadata": {},
   "outputs": [
    {
     "name": "stdout",
     "output_type": "stream",
     "text": [
      "    id survived\n",
      "0  634      yes\n",
      "1  959       no\n",
      "2  364       no\n",
      "3  948       no\n",
      "4  142       no\n"
     ]
    },
    {
     "name": "stderr",
     "output_type": "stream",
     "text": [
      "/home/daniel/anaconda3/lib/python3.7/site-packages/ipykernel_launcher.py:2: SettingWithCopyWarning: \n",
      "A value is trying to be set on a copy of a slice from a DataFrame.\n",
      "Try using .loc[row_indexer,col_indexer] = value instead\n",
      "\n",
      "See the caveats in the documentation: http://pandas.pydata.org/pandas-docs/stable/indexing.html#indexing-view-versus-copy\n",
      "  \n"
     ]
    }
   ],
   "source": [
    "output = df_test[['Unnamed: 0','survived']]\n",
    "output['id'] = output['Unnamed: 0']\n",
    "output = output[['id','survived']]\n",
    "print(output.head())\n",
    "\n",
    "output.to_csv(\"saida_42.csv\",index=False)"
   ]
  },
  {
   "cell_type": "code",
   "execution_count": 11,
   "metadata": {},
   "outputs": [
    {
     "name": "stdout",
     "output_type": "stream",
     "text": [
      "<class 'pandas.core.frame.DataFrame'>\n",
      "RangeIndex: 329 entries, 0 to 328\n",
      "Data columns (total 2 columns):\n",
      "id          329 non-null int64\n",
      "survived    329 non-null object\n",
      "dtypes: int64(1), object(1)\n",
      "memory usage: 5.2+ KB\n"
     ]
    }
   ],
   "source": [
    "output.info()"
   ]
  }
 ],
 "metadata": {
  "kernelspec": {
   "display_name": "Python 3",
   "language": "python",
   "name": "python3"
  },
  "language_info": {
   "codemirror_mode": {
    "name": "ipython",
    "version": 3
   },
   "file_extension": ".py",
   "mimetype": "text/x-python",
   "name": "python",
   "nbconvert_exporter": "python",
   "pygments_lexer": "ipython3",
   "version": "3.7.3"
  }
 },
 "nbformat": 4,
 "nbformat_minor": 2
}
