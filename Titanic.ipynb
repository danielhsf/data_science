{
 "cells": [
  {
   "cell_type": "markdown",
   "metadata": {},
   "source": [
    "# First Import"
   ]
  },
  {
   "cell_type": "code",
   "execution_count": 2,
   "metadata": {},
   "outputs": [],
   "source": [
    "import pandas as pd\n",
    "import numpy as np"
   ]
  },
  {
   "cell_type": "markdown",
   "metadata": {},
   "source": [
    "## Reading the File"
   ]
  },
  {
   "cell_type": "code",
   "execution_count": 3,
   "metadata": {},
   "outputs": [],
   "source": [
    "df = pd.read_csv(\"titanic/titanic_train.csv\")"
   ]
  },
  {
   "cell_type": "markdown",
   "metadata": {},
   "source": [
    "## Mostrando informações"
   ]
  },
  {
   "cell_type": "code",
   "execution_count": 4,
   "metadata": {},
   "outputs": [
    {
     "name": "stdout",
     "output_type": "stream",
     "text": [
      "   Unnamed: 0  Unnamed: 0.1      class     age    sex survived\n",
      "0         191           192  1st class  adults  women      yes\n",
      "1         103           104  1st class  adults    man       no\n",
      "2        1280          1281  3rd class   child    man       no\n",
      "3          60            61  1st class  adults    man       no\n",
      "4        1034          1035  3rd class  adults    man       no\n",
      "<class 'pandas.core.frame.DataFrame'>\n",
      "RangeIndex: 987 entries, 0 to 986\n",
      "Data columns (total 6 columns):\n",
      "Unnamed: 0      987 non-null int64\n",
      "Unnamed: 0.1    987 non-null int64\n",
      "class           987 non-null object\n",
      "age             987 non-null object\n",
      "sex             987 non-null object\n",
      "survived        987 non-null object\n",
      "dtypes: int64(2), object(4)\n",
      "memory usage: 46.3+ KB\n",
      "None\n"
     ]
    }
   ],
   "source": [
    "print(df.head())\n",
    "print(df.info())"
   ]
  },
  {
   "cell_type": "markdown",
   "metadata": {},
   "source": [
    "## Separating X_train and y_train"
   ]
  },
  {
   "cell_type": "code",
   "execution_count": 5,
   "metadata": {},
   "outputs": [
    {
     "name": "stdout",
     "output_type": "stream",
     "text": [
      "X_train\n",
      "   Unnamed: 0.1      class     age    sex\n",
      "0           192  1st class  adults  women\n",
      "1           104  1st class  adults    man\n",
      "2          1281  3rd class   child    man\n",
      "3            61  1st class  adults    man\n",
      "4          1035  3rd class  adults    man\n",
      "Index(['Unnamed: 0.1', 'class_2nd class', 'class_3rd class', 'age_child',\n",
      "       'sex_women'],\n",
      "      dtype='object')\n",
      "   Unnamed: 0.1  class_2nd class  class_3rd class  age_child  sex_women\n",
      "0           192                0                0          0          1\n",
      "1           104                0                0          0          0\n",
      "2          1281                0                1          1          0\n",
      "3            61                0                0          0          0\n",
      "4          1035                0                1          0          0\n",
      "y_train\n",
      "   yes\n",
      "0    1\n",
      "1    0\n",
      "2    0\n",
      "3    0\n",
      "4    0\n"
     ]
    }
   ],
   "source": [
    "X_train = df.iloc[:,1:5]\n",
    "print(\"X_train\")\n",
    "print(X_train.head())\n",
    "\n",
    "# Create dummy variables with drop_first=True: df_region\n",
    "X_train = pd.get_dummies(X_train,drop_first=True)\n",
    "\n",
    "# Print the new columns of df_region\n",
    "print(X_train.columns)\n",
    "\n",
    "print(X_train.head())\n",
    "\n",
    "print(\"y_train\")\n",
    "y_train = df.iloc[:,-1]\n",
    "y_train = pd.get_dummies(y_train,drop_first=True)\n",
    "print(y_train.head())"
   ]
  },
  {
   "cell_type": "markdown",
   "metadata": {},
   "source": [
    "## Learning"
   ]
  },
  {
   "cell_type": "code",
   "execution_count": 19,
   "metadata": {},
   "outputs": [
    {
     "data": {
      "text/plain": [
       "DecisionTreeClassifier(class_weight=None, criterion='gini', max_depth=7,\n",
       "                       max_features=None, max_leaf_nodes=None,\n",
       "                       min_impurity_decrease=0.0, min_impurity_split=None,\n",
       "                       min_samples_leaf=1, min_samples_split=2,\n",
       "                       min_weight_fraction_leaf=0.0, presort=False,\n",
       "                       random_state=0, splitter='best')"
      ]
     },
     "execution_count": 19,
     "metadata": {},
     "output_type": "execute_result"
    }
   ],
   "source": [
    "from sklearn.tree import DecisionTreeClassifier\n",
    "from sklearn.metrics import accuracy_score\n",
    "\n",
    "clf = DecisionTreeClassifier(random_state=0,max_depth=7)\n",
    "\n",
    "clf.fit(X_train,y_train)"
   ]
  },
  {
   "cell_type": "code",
   "execution_count": 20,
   "metadata": {},
   "outputs": [
    {
     "name": "stdout",
     "output_type": "stream",
     "text": [
      "1.0\n"
     ]
    }
   ],
   "source": [
    "predic = clf.predict(X_train)\n",
    "print(accuracy_score(predic,y_train))"
   ]
  },
  {
   "cell_type": "markdown",
   "metadata": {},
   "source": [
    "## Testing"
   ]
  },
  {
   "cell_type": "code",
   "execution_count": 22,
   "metadata": {},
   "outputs": [
    {
     "name": "stdout",
     "output_type": "stream",
     "text": [
      "Index(['Unnamed: 0.1', 'class_2nd class', 'class_3rd class', 'age_child',\n",
      "       'sex_women'],\n",
      "      dtype='object')\n",
      "Index(['Unnamed: 0.1', 'class_2nd class', 'class_3rd class', 'age_child',\n",
      "       'sex_women'],\n",
      "      dtype='object')\n"
     ]
    }
   ],
   "source": [
    "df_test = pd.read_csv(\"titanic/titanic_test.csv\")\n",
    "X_test = df_test.iloc[:,1:5]\n",
    "X_test = pd.get_dummies(X_test,drop_first=True)\n",
    "\n",
    "print(X_train.columns)\n",
    "print(X_test.columns)\n",
    "\n",
    "X_test = clf.predict(X_test)\n",
    "\n",
    "labels = []\n",
    "\n",
    "\n",
    "for i in X_test:\n",
    "    if(i <= 0):\n",
    "        labels.append(\"no\")\n",
    "    else:\n",
    "        labels.append(\"yes\")\n",
    "\n",
    "df_test['survived'] = labels"
   ]
  },
  {
   "cell_type": "code",
   "execution_count": 26,
   "metadata": {},
   "outputs": [
    {
     "name": "stdout",
     "output_type": "stream",
     "text": [
      "    id survived\n",
      "0  634      yes\n",
      "1  959       no\n",
      "2  364       no\n",
      "3  948       no\n",
      "4  142       no\n"
     ]
    },
    {
     "name": "stderr",
     "output_type": "stream",
     "text": [
      "/home/daniel/anaconda3/lib/python3.7/site-packages/ipykernel_launcher.py:2: SettingWithCopyWarning: \n",
      "A value is trying to be set on a copy of a slice from a DataFrame.\n",
      "Try using .loc[row_indexer,col_indexer] = value instead\n",
      "\n",
      "See the caveats in the documentation: http://pandas.pydata.org/pandas-docs/stable/indexing.html#indexing-view-versus-copy\n",
      "  \n"
     ]
    }
   ],
   "source": [
    "output = df_test[['Unnamed: 0','survived']]\n",
    "output['id'] = output['Unnamed: 0']\n",
    "output = output[['id','survived']]\n",
    "print(output.head())\n",
    "\n",
    "output.to_csv(\"saida.csv\",index=False)"
   ]
  },
  {
   "cell_type": "code",
   "execution_count": 24,
   "metadata": {},
   "outputs": [
    {
     "name": "stdout",
     "output_type": "stream",
     "text": [
      "<class 'pandas.core.frame.DataFrame'>\n",
      "RangeIndex: 329 entries, 0 to 328\n",
      "Data columns (total 2 columns):\n",
      "id          329 non-null int64\n",
      "survived    329 non-null object\n",
      "dtypes: int64(1), object(1)\n",
      "memory usage: 5.2+ KB\n"
     ]
    }
   ],
   "source": [
    "output.info()"
   ]
  },
  {
   "cell_type": "code",
   "execution_count": 25,
   "metadata": {},
   "outputs": [
    {
     "name": "stdout",
     "output_type": "stream",
     "text": [
      "|--- sex_women <= 0.50\n",
      "|   |--- id <= 57.50\n",
      "|   |   |--- class: 1\n",
      "|   |--- id >  57.50\n",
      "|   |   |--- id <= 685.50\n",
      "|   |   |   |--- id <= 540.00\n",
      "|   |   |   |   |--- age_child <= 0.50\n",
      "|   |   |   |   |   |--- id <= 339.50\n",
      "|   |   |   |   |   |   |--- id <= 250.50\n",
      "|   |   |   |   |   |   |   |--- class: 0\n",
      "|   |   |   |   |   |   |--- id >  250.50\n",
      "|   |   |   |   |   |   |   |--- class: 1\n",
      "|   |   |   |   |   |--- id >  339.50\n",
      "|   |   |   |   |   |   |--- class: 0\n",
      "|   |   |   |   |--- age_child >  0.50\n",
      "|   |   |   |   |   |--- class: 1\n",
      "|   |   |   |--- id >  540.00\n",
      "|   |   |   |   |--- class: 1\n",
      "|   |   |--- id >  685.50\n",
      "|   |   |   |--- age_child <= 0.50\n",
      "|   |   |   |   |--- class: 0\n",
      "|   |   |   |--- age_child >  0.50\n",
      "|   |   |   |   |--- id <= 1251.50\n",
      "|   |   |   |   |   |--- class: 1\n",
      "|   |   |   |   |--- id >  1251.50\n",
      "|   |   |   |   |   |--- class: 0\n",
      "|--- sex_women >  0.50\n",
      "|   |--- id <= 1148.50\n",
      "|   |   |--- id <= 573.50\n",
      "|   |   |   |--- id <= 316.00\n",
      "|   |   |   |   |--- class: 1\n",
      "|   |   |   |--- id >  316.00\n",
      "|   |   |   |   |--- id <= 322.00\n",
      "|   |   |   |   |   |--- class: 0\n",
      "|   |   |   |   |--- id >  322.00\n",
      "|   |   |   |   |   |--- class: 1\n",
      "|   |   |--- id >  573.50\n",
      "|   |   |   |--- id <= 592.00\n",
      "|   |   |   |   |--- class: 0\n",
      "|   |   |   |--- id >  592.00\n",
      "|   |   |   |   |--- class: 1\n",
      "|   |--- id >  1148.50\n",
      "|   |   |--- id <= 1262.00\n",
      "|   |   |   |--- class: 0\n",
      "|   |   |--- id >  1262.00\n",
      "|   |   |   |--- id <= 1300.00\n",
      "|   |   |   |   |--- class: 1\n",
      "|   |   |   |--- id >  1300.00\n",
      "|   |   |   |   |--- class: 0\n",
      "\n"
     ]
    }
   ],
   "source": [
    "from sklearn.tree.export import export_text\n",
    "r = export_text(clf,feature_names = ['id', 'class_2nd class', 'class_3rd class', 'age_child','sex_women'])\n",
    "print(r)"
   ]
  }
 ],
 "metadata": {
  "kernelspec": {
   "display_name": "Python 3",
   "language": "python",
   "name": "python3"
  },
  "language_info": {
   "codemirror_mode": {
    "name": "ipython",
    "version": 3
   },
   "file_extension": ".py",
   "mimetype": "text/x-python",
   "name": "python",
   "nbconvert_exporter": "python",
   "pygments_lexer": "ipython3",
   "version": "3.7.3"
  }
 },
 "nbformat": 4,
 "nbformat_minor": 2
}
